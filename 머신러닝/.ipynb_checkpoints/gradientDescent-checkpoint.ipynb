{
 "cells": [
  {
   "cell_type": "code",
   "execution_count": 8,
   "metadata": {},
   "outputs": [
    {
     "name": "stdout",
     "output_type": "stream",
     "text": [
      "    0 |    83.5000 |   4.750000\n",
      "   10 |    17.6915 |   3.080629\n",
      "   20 |     3.8521 |   2.315085\n",
      "   30 |     0.9417 |   1.964020\n",
      "   40 |     0.3297 |   1.803027\n",
      "   50 |     0.2009 |   1.729199\n",
      "   60 |     0.1739 |   1.695343\n",
      "   70 |     0.1682 |   1.679817\n",
      "   80 |     0.1670 |   1.672697\n",
      "   90 |     0.1667 |   1.669432\n",
      "  100 |     0.1667 |   1.667935\n",
      "  110 |     0.1667 |   1.667248\n",
      "  120 |     0.1667 |   1.666933\n",
      "  130 |     0.1667 |   1.666789\n",
      "  140 |     0.1667 |   1.666723\n",
      "  150 |     0.1667 |   1.666692\n",
      "  160 |     0.1667 |   1.666678\n",
      "  170 |     0.1667 |   1.666672\n",
      "  180 |     0.1667 |   1.666669\n",
      "  190 |     0.1667 |   1.666668\n",
      "  200 |     0.1667 |   1.666667\n",
      "  210 |     0.1667 |   1.666667\n",
      "  220 |     0.1667 |   1.666667\n",
      "  230 |     0.1667 |   1.666667\n",
      "  240 |     0.1667 |   1.666667\n",
      "  250 |     0.1667 |   1.666667\n",
      "  260 |     0.1667 |   1.666667\n",
      "  270 |     0.1667 |   1.666667\n",
      "  280 |     0.1667 |   1.666667\n",
      "  290 |     0.1667 |   1.666667\n"
     ]
    }
   ],
   "source": [
    "import tensorflow as tf\n",
    "\n",
    "tf.random.set_seed(0)\n",
    "\n",
    "x_data = [1., 2., 3., 4.]\n",
    "y_data = [1., 3., 5., 7.]\n",
    "\n",
    "W = tf.Variable(tf.random.normal([1], -100, 100))\n",
    "# W = tf.Variable([5.0])\n",
    "\n",
    "for step in range(300):\n",
    "    hypothesis = W * x_data\n",
    "    cost = tf.reduce_mean(tf.square(hypothesis - y_data))\n",
    "    \n",
    "    alpha = 0.01\n",
    "    #기울기\n",
    "    gradient = tf.reduce_mean(tf.multiply(tf.multiply(W, x_data) - y_data, x_data))\n",
    "    # 새로운 W 값\n",
    "    descent = W - tf.multiply(alpha, gradient)\n",
    "    W.assign(descent)\n",
    "    \n",
    "    if step % 10 == 0:\n",
    "        print('{:5} | {:10.4f} | {:10.6f}'.format(step, cost.numpy(), W.numpy()[0]))"
   ]
  },
  {
   "cell_type": "code",
   "execution_count": null,
   "metadata": {},
   "outputs": [],
   "source": []
  }
 ],
 "metadata": {
  "kernelspec": {
   "display_name": "Python 3",
   "language": "python",
   "name": "python3"
  },
  "language_info": {
   "codemirror_mode": {
    "name": "ipython",
    "version": 3
   },
   "file_extension": ".py",
   "mimetype": "text/x-python",
   "name": "python",
   "nbconvert_exporter": "python",
   "pygments_lexer": "ipython3",
   "version": "3.8.0"
  }
 },
 "nbformat": 4,
 "nbformat_minor": 4
}
